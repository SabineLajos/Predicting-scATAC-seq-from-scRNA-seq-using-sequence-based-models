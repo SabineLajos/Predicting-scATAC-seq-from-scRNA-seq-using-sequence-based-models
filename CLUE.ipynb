{
 "cells": [
  {
   "cell_type": "code",
   "execution_count": null,
   "metadata": {},
   "outputs": [],
   "source": [
    "import anndata\n",
    "import networkx as nx\n",
    "import scanpy as sc\n",
    "import scglue\n",
    "import os\n",
    "from matplotlib import rcParams"
   ]
  },
  {
   "cell_type": "code",
   "execution_count": null,
   "metadata": {},
   "outputs": [],
   "source": [
    "scglue.plot.set_publication_params()\n",
    "rcParams[\"figure.figsize\"] = (4, 4)"
   ]
  },
  {
   "cell_type": "code",
   "execution_count": null,
   "metadata": {},
   "outputs": [],
   "source": [
    "user = \"Sabine\""
   ]
  },
  {
   "cell_type": "code",
   "execution_count": null,
   "metadata": {},
   "outputs": [],
   "source": [
    "if user == \"Tobi\":\n",
    "    data_path = 'C:/Users/Tobias/Desktop/Single Cell Data/Full/phase2-private-data/common/openproblems_bmmc_multiome_phase2'\n",
    "if user == \"Sabine\":\n",
    "    data_path = \"/mnt/data/output/datasets/common/openproblems_bmmc_multiome_phase2\"\n",
    "    \n",
    "only_train = True\n",
    "\n",
    "atac = sc.read_h5ad(os.path.join(data_path, \"openproblems_bmmc_multiome_phase2.manual_formatting.output_mod2.h5ad\"))\n",
    "rna = sc.read_h5ad(os.path.join(data_path, \"openproblems_bmmc_multiome_phase2.manual_formatting.output_rna.h5ad\"))\n",
    "\n",
    "if only_train == True:\n",
    "    test_atac = atac[atac.obs[\"is_train\"] == False]\n",
    "    test_rna = rna[rna.obs[\"is_train\"] == False]\n",
    "    \n",
    "    atac = atac[atac.obs[\"is_train\"] == True]\n",
    "    rna = rna[rna.obs[\"is_train\"] == True]\n",
    "\n",
    "test_atac = test_atac[0:20000:2]\n",
    "test_rna = test_rna[0:20000:2]\n"
   ]
  },
  {
   "cell_type": "code",
   "execution_count": null,
   "metadata": {},
   "outputs": [],
   "source": [
    "scglue.models.scglue.configure_dataset(rna, prob_model= \"Normal\", use_highly_variable=False)\n",
    "scglue.models.scglue.configure_dataset(atac, prob_model= \"Normal\", use_highly_variable=False)"
   ]
  },
  {
   "cell_type": "code",
   "execution_count": null,
   "metadata": {},
   "outputs": [],
   "source": [
    "model=scglue.models.scclue.SCCLUEModel(adatas={\"rna\":rna, \"atac\":atac})"
   ]
  },
  {
   "cell_type": "code",
   "execution_count": null,
   "metadata": {},
   "outputs": [],
   "source": [
    "model.compile()"
   ]
  },
  {
   "cell_type": "code",
   "execution_count": null,
   "metadata": {},
   "outputs": [],
   "source": [
    "model.fit(adatas={\"rna\":rna, \"atac\":atac}, directory=\"/mnt/CMSCB/CMSCB/NeurIPS/CLUE/Clue_train_output\")"
   ]
  },
  {
   "cell_type": "markdown",
   "metadata": {},
   "source": [
    "## Test Set"
   ]
  },
  {
   "cell_type": "code",
   "execution_count": null,
   "metadata": {},
   "outputs": [],
   "source": [
    "output = model.cross_predict(adata= test_rna, keys=(\"rna\",\"atac\")) "
   ]
  },
  {
   "cell_type": "code",
   "execution_count": null,
   "metadata": {},
   "outputs": [],
   "source": [
    "output"
   ]
  },
  {
   "cell_type": "code",
   "execution_count": null,
   "metadata": {},
   "outputs": [],
   "source": [
    "test_atac.obsm[\"latent\"] = model.encode_data(adata=test_rna, key=\"rna\") "
   ]
  },
  {
   "cell_type": "markdown",
   "metadata": {},
   "source": [
    "# Evaluate Performance"
   ]
  },
  {
   "cell_type": "code",
   "execution_count": null,
   "metadata": {},
   "outputs": [],
   "source": [
    "import sklearn\n",
    "import numpy as np\n",
    "import scipy "
   ]
  },
  {
   "cell_type": "code",
   "execution_count": null,
   "metadata": {},
   "outputs": [],
   "source": [
    "precision,recall,_ = sklearn.metrics.precision_recall_curve(np.reshape(np.array(test_atac.X.todense()), -1),\n",
    "                                                            np.reshape(np.array(output.X), -1))                                      \n",
    "sklearn.metrics.PrecisionRecallDisplay(precision=precision, recall=recall).plot()"
   ]
  },
  {
   "cell_type": "markdown",
   "metadata": {},
   "source": [
    "## Area under the Curve"
   ]
  },
  {
   "cell_type": "code",
   "execution_count": null,
   "metadata": {},
   "outputs": [],
   "source": [
    "AUPRC = sklearn.metrics.average_precision_score(np.reshape(np.array(test_atac.X.todense()), -1),\n",
    "                                                np.reshape(np.array(output.X), -1))\n",
    "AUPRC"
   ]
  },
  {
   "cell_type": "code",
   "execution_count": null,
   "metadata": {},
   "outputs": [],
   "source": [
    "AUROC=sklearn.metrics.roc_auc_score(np.reshape(np.array(test_atac.X.todense()), -1),\n",
    "                                    np.reshape(np.array(output.X), -1))\n",
    "AUROC"
   ]
  },
  {
   "cell_type": "markdown",
   "metadata": {},
   "source": [
    "## Root Mean Squared Error"
   ]
  },
  {
   "cell_type": "code",
   "execution_count": null,
   "metadata": {},
   "outputs": [],
   "source": [
    "diff = np.array(test_atac.X.todense()) - np.array(output.X)\n",
    "n,m = test_atac.shape\n",
    "RMSE = np.sqrt(1/(n * m) * (diff **2).sum())\n",
    "RMSE"
   ]
  },
  {
   "cell_type": "markdown",
   "metadata": {},
   "source": [
    "### Compare latent embedding"
   ]
  },
  {
   "cell_type": "code",
   "execution_count": null,
   "metadata": {},
   "outputs": [],
   "source": [
    "def compute_embedding(adata, X_emb):\n",
    "            \n",
    "    adata.obsm['X_emb'] = X_emb\n",
    "    \n",
    "    if 'X_umap' in adata.obsm.keys():\n",
    "        adata.obsm.pop('X_umap')\n",
    "    \n",
    "    if 'umap' in adata.obsm.keys():\n",
    "        adata.obsm.pop('umap')\n",
    "        \n",
    "    if 'neighbors' in adata.uns.keys():\n",
    "        adata.uns.pop('neighbors')\n",
    "\n",
    "    sc.pp.neighbors(adata, use_rep='X_emb')\n",
    "    sc.tl.umap(adata)"
   ]
  },
  {
   "cell_type": "code",
   "execution_count": null,
   "metadata": {},
   "outputs": [],
   "source": [
    "compute_embedding(test_atac, test_atac.obsm[\"latent\"])\n",
    "sc.pl.umap(test_atac, color='cell_type')"
   ]
  },
  {
   "cell_type": "code",
   "execution_count": null,
   "metadata": {},
   "outputs": [],
   "source": [
    "# compute the k-nearest-neighbor graph that is used in both clustering and umap algorithms\n",
    "sc.pp.neighbors(test_atac, use_rep=\"latent\")\n",
    "\n",
    "# compute the umap\n",
    "sc.tl.umap(test_atac, min_dist=0.2)\n",
    "\n",
    "# cluster the space (we use a lower resolution to get fewer clusters than the default)\n",
    "sc.tl.leiden(test_atac, key_added=\"our_cluster\", resolution=0.5)\n",
    "sc.pl.umap(test_atac, color='our_cluster')"
   ]
  },
  {
   "cell_type": "code",
   "execution_count": null,
   "metadata": {},
   "outputs": [],
   "source": [
    "sklearn.metrics.adjusted_rand_score(test_atac.obs[\"our_cluster\"], test_atac.obs[\"cell_type\"])"
   ]
  }
 ],
 "metadata": {
  "interpreter": {
   "hash": "78c310f1ae02813f0a767dc6ed9b6ac3715ca34f14905f9884f9826e838bd0e1"
  },
  "kernelspec": {
   "display_name": "Python 3",
   "language": "python",
   "name": "python3"
  },
  "language_info": {
   "codemirror_mode": {
    "name": "ipython",
    "version": 3
   },
   "file_extension": ".py",
   "mimetype": "text/x-python",
   "name": "python",
   "nbconvert_exporter": "python",
   "pygments_lexer": "ipython3",
   "version": "3.8.8"
  }
 },
 "nbformat": 4,
 "nbformat_minor": 2
}
